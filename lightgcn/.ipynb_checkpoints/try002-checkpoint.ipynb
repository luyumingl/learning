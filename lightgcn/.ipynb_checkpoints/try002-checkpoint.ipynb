{
 "cells": [
  {
   "cell_type": "code",
   "execution_count": 1,
   "metadata": {},
   "outputs": [
    {
     "name": "stderr",
     "output_type": "stream",
     "text": [
      "Using backend: pytorch\n"
     ]
    }
   ],
   "source": [
    "import os\n",
    "from os.path import join\n",
    "import sys\n",
    "import torch\n",
    "from torch import nn\n",
    "import numpy as np\n",
    "import pandas as pd\n",
    "from torch.utils.data import Dataset, DataLoader\n",
    "from scipy.sparse import csr_matrix\n",
    "import scipy.sparse as sp\n",
    "import time\n",
    "import dgl\n",
    "import dgl.function as fn\n",
    "import mxnet as mx\n",
    "import torch.nn as nn"
   ]
  },
  {
   "cell_type": "code",
   "execution_count": 2,
   "metadata": {},
   "outputs": [],
   "source": [
    "def dataload():\n",
    "    train_file = \"./gowalla/train.txt\"\n",
    "    test_file = \"./gowalla/test.txt\"\n",
    "    m_item = 0\n",
    "    n_user = 0\n",
    "    trainUniqueUsers, trainItem, trainUser = [], [], []\n",
    "    testUniqueUsers, testItem, testUser = [], [], []\n",
    "    with open(train_file) as f:\n",
    "        for l in f.readlines():\n",
    "            if len(l) > 0:\n",
    "                l = l.strip('\\n').split(' ')\n",
    "                items = [int(i) for i in l[1:]]\n",
    "                uid = int(l[0])\n",
    "                trainUniqueUsers.append(uid)\n",
    "                trainUser.extend([uid] * len(items))\n",
    "                trainItem.extend(items)\n",
    "                m_item = max(m_item, max(items))\n",
    "                n_user = max(n_user, uid)\n",
    "    trainUser = np.array(trainUser)\n",
    "    trainItem = np.array(trainItem)\n",
    "    return trainUser,trainItem"
   ]
  },
  {
   "cell_type": "code",
   "execution_count": 3,
   "metadata": {},
   "outputs": [],
   "source": [
    "def getgraph(trainUser,trainItem):\n",
    "    g = dgl.heterograph({('user', 'edg1' , 'item'): (trainUser, trainItem),\n",
    "                         ('item', 'edg2', 'user'): (trainItem,trainUser)})\n",
    "    gre_user = g.out_degrees(etype=('user', 'edg1' , 'item'))\n",
    "    gre_item = g.out_degrees(etype=('item', 'edg2' , 'user'))\n",
    "    gre_user = gre_user ** (-0.5)\n",
    "    gre_user = gre_user.unsqueeze(1).repeat(1,64)\n",
    "    gre_item = gre_item  ** (-0.5)\n",
    "    gre_item = gre_item.unsqueeze(1).repeat(1,64)\n",
    "    return g, gre_user, gre_item"
   ]
  },
  {
   "cell_type": "code",
   "execution_count": 4,
   "metadata": {},
   "outputs": [],
   "source": [
    "trainUser,trainItem= dataload()\n",
    "g, gre_user, gre_item= getgraph(trainUser,trainItem)"
   ]
  },
  {
   "cell_type": "code",
   "execution_count": null,
   "metadata": {},
   "outputs": [],
   "source": [
    "class Lightgcn(nn.Module):\n",
    "    def __init__(self,\n",
    "                g,\n",
    "                gre_user,\n",
    "                gre_item,\n",
    "                n_layers):\n",
    "        super(Lightgcn, self).__init__()\n",
    "        self.g = g\n",
    "        self.gre_user = gre_user\n",
    "        self.gre_item = gre_item\n",
    "        self.layers = n_layers\n",
    "        self.__init_weight()\n",
    "        self.num_users = g.num_nodes('user')\n",
    "    def __init_weight(self):\n",
    "        self.embedding_user = torch.nn.Embedding(\n",
    "            num_embeddings=self.num_users, embedding_dim=self.latent_dim)\n",
    "        self.embedding_item = torch.nn.Embedding(\n",
    "            num_embeddings=self.num_items, embedding_dim=self.latent_dim)\n",
    "        \n",
    "        \n",
    "        \n",
    "    \n",
    "    "
   ]
  }
 ],
 "metadata": {
  "kernelspec": {
   "display_name": "Python 3",
   "language": "python",
   "name": "python3"
  },
  "language_info": {
   "codemirror_mode": {
    "name": "ipython",
    "version": 3
   },
   "file_extension": ".py",
   "mimetype": "text/x-python",
   "name": "python",
   "nbconvert_exporter": "python",
   "pygments_lexer": "ipython3",
   "version": "3.7.3"
  }
 },
 "nbformat": 4,
 "nbformat_minor": 2
}
