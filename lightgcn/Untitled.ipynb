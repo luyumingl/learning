{
 "cells": [
  {
   "cell_type": "code",
   "execution_count": 31,
   "metadata": {},
   "outputs": [],
   "source": [
    "import dgl\n",
    "import torch \n",
    "import numpy as np\n",
    "from dgl.utils import expand_as_pair\n",
    "import mxnet as mx"
   ]
  },
  {
   "cell_type": "code",
   "execution_count": 51,
   "metadata": {},
   "outputs": [],
   "source": [
    "u = [0,0,2]\n",
    "v = [1,2,3]\n",
    "g = dgl.graph((u,v))\n",
    "g = dgl.to_bidirected(g)"
   ]
  },
  {
   "cell_type": "code",
   "execution_count": 52,
   "metadata": {},
   "outputs": [],
   "source": [
    "g.ndata['feat'] = torch.ones(g.num_nodes(),3)"
   ]
  },
  {
   "cell_type": "code",
   "execution_count": 53,
   "metadata": {},
   "outputs": [
    {
     "name": "stdout",
     "output_type": "stream",
     "text": [
      "tensor([2, 1, 2, 1])\n"
     ]
    }
   ],
   "source": [
    "print(g.out_degrees())"
   ]
  },
  {
   "cell_type": "code",
   "execution_count": 54,
   "metadata": {},
   "outputs": [],
   "source": [
    "feat_src, feat_dst = expand_as_pair(g.ndata['feat'] , g)"
   ]
  },
  {
   "cell_type": "code",
   "execution_count": 55,
   "metadata": {},
   "outputs": [
    {
     "name": "stdout",
     "output_type": "stream",
     "text": [
      "tensor([[1., 1., 1.],\n",
      "        [1., 1., 1.],\n",
      "        [1., 1., 1.],\n",
      "        [1., 1., 1.]])\n"
     ]
    }
   ],
   "source": [
    "print(feat_src)"
   ]
  },
  {
   "cell_type": "code",
   "execution_count": 56,
   "metadata": {
    "scrolled": true
   },
   "outputs": [
    {
     "name": "stdout",
     "output_type": "stream",
     "text": [
      "tensor([2, 1, 2, 1])\n",
      "torch.Size([4, 1])\n",
      "tensor([[2],\n",
      "        [1],\n",
      "        [2],\n",
      "        [1]])\n",
      "tensor([[2., 2., 2.],\n",
      "        [1., 1., 1.],\n",
      "        [2., 2., 2.],\n",
      "        [1., 1., 1.]])\n"
     ]
    }
   ],
   "source": [
    "degs = g.out_degrees()\n",
    "norm = degs\n",
    "shp = norm.shape + (1,) * (feat_src.ndim - 1)\n",
    "print(degs)\n",
    "norm = norm.reshape(shp)\n",
    "print(shp)\n",
    "feat_src = feat_src * norm\n",
    "print(norm)\n",
    "print(feat_src)"
   ]
  },
  {
   "cell_type": "code",
   "execution_count": null,
   "metadata": {},
   "outputs": [],
   "source": []
  }
 ],
 "metadata": {
  "kernelspec": {
   "display_name": "Python 3",
   "language": "python",
   "name": "python3"
  },
  "language_info": {
   "codemirror_mode": {
    "name": "ipython",
    "version": 3
   },
   "file_extension": ".py",
   "mimetype": "text/x-python",
   "name": "python",
   "nbconvert_exporter": "python",
   "pygments_lexer": "ipython3",
   "version": "3.7.3"
  }
 },
 "nbformat": 4,
 "nbformat_minor": 2
}
